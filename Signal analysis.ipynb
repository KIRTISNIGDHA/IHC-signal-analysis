{
 "cells": [
  {
   "cell_type": "markdown",
   "metadata": {},
   "source": [
    "# Analysis of immunohistochemistry signal intensity in tumor samples"
   ]
  },
  {
   "cell_type": "markdown",
   "metadata": {},
   "source": [
    "__Background:__\n",
    "\n",
    "Tumor cells are surrounded by normal cells like immune cells,blood vessels, cytokines, growth regulators etc. which constitute the tumor microenvironment(TME). It is proposed that tumor microenvironment plays a critical role in tumor development. We want to evaluate how the inflammatory pathways present in the TME affect tumor development. The TME was modeled by genetically inducing formation of tumor clones surrounded by normal cells in the drosophila wing imaginal discs. To evaulate inflammation components, immunohisochemistry was done followedby confocal imaging. Using measurement log function of Photoshop, signal intensity was measured in the tumor clones and the normal cells. \n",
    "\n",
    "__Data:__\n",
    "\n",
    "The data is generated as a CSV file which contains various information :\n",
    "1. Label : # of the measurement \n",
    "2. Data and time of the analysis perfromed\n",
    "3. Document : File name which also indicates the sample number, magnification and genotype information\n",
    "4. Source: Selection indicates user defined area\n",
    "5. Scale, scale units, scale factor , count, area , perimeter, circularity, height, width remain same for all the area\n",
    "6. Gray value (min, max,mean,median) show the variation in the intensity of the signal in the user defined area\n",
    "7. Integrated density is calculated by the program based on the signal intensity in the area \n",
    "\n",
    "__Analysis:__\n",
    "\n",
    "The mean of signal intensity of the tumor and normal cell from 5 different sample is obtained and compared to analyse any significant change in inflammatory component during tumor development. \n",
    "\n",
    "__The goal of this project is to write a code which will do following steps:__\n",
    "\n",
    "1. Read the excel file \n",
    "2. Create a dataframe that contains the document and integrated density data\n",
    "3. Check for duplication of data\n",
    "4. Sort the data for normal and tumor samples\n",
    "5. Calculate the mean signal intesity for each sample in both categories \n",
    "6. Visualize the signal intensities using bar graph\n",
    "7. Perform descriptive statistics \n",
    "8. Perform inferential statistics\n",
    "9. Result\n",
    "\n",
    "\n",
    "\n"
   ]
  },
  {
   "cell_type": "code",
   "execution_count": 1,
   "metadata": {},
   "outputs": [],
   "source": [
    "# Import required databases\n",
    "import numpy as np\n",
    "import pandas as pd"
   ]
  },
  {
   "cell_type": "code",
   "execution_count": 2,
   "metadata": {},
   "outputs": [
    {
     "data": {
      "text/html": [
       "<div>\n",
       "<style scoped>\n",
       "    .dataframe tbody tr th:only-of-type {\n",
       "        vertical-align: middle;\n",
       "    }\n",
       "\n",
       "    .dataframe tbody tr th {\n",
       "        vertical-align: top;\n",
       "    }\n",
       "\n",
       "    .dataframe thead th {\n",
       "        text-align: right;\n",
       "    }\n",
       "</style>\n",
       "<table border=\"1\" class=\"dataframe\">\n",
       "  <thead>\n",
       "    <tr style=\"text-align: right;\">\n",
       "      <th></th>\n",
       "      <th>Label</th>\n",
       "      <th>Date and Time</th>\n",
       "      <th>Document</th>\n",
       "      <th>Source</th>\n",
       "      <th>Scale</th>\n",
       "      <th>Scale Units</th>\n",
       "      <th>Scale Factor</th>\n",
       "      <th>Count</th>\n",
       "      <th>Area</th>\n",
       "      <th>Perimeter</th>\n",
       "      <th>Circularity</th>\n",
       "      <th>Height</th>\n",
       "      <th>Width</th>\n",
       "      <th>Gray Value (Minimum)</th>\n",
       "      <th>Gray Value (Maximum)</th>\n",
       "      <th>Gray Value (Mean)</th>\n",
       "      <th>Gray Value (Median)</th>\n",
       "      <th>Integrated Density</th>\n",
       "      <th>Histogram</th>\n",
       "    </tr>\n",
       "  </thead>\n",
       "  <tbody>\n",
       "    <tr>\n",
       "      <td>0</td>\n",
       "      <td>Measurement 1</td>\n",
       "      <td>2018-12-09T12:30:26-05:00</td>\n",
       "      <td>W1 40X Ay-GFP, UAS Yki3SA, UAS ScribRNAi MMP1,...</td>\n",
       "      <td>Selection</td>\n",
       "      <td>1 pixel(s) = 1.0000 pixels</td>\n",
       "      <td>pixels</td>\n",
       "      <td>1</td>\n",
       "      <td>1</td>\n",
       "      <td>1976</td>\n",
       "      <td>166.024387</td>\n",
       "      <td>0.900851</td>\n",
       "      <td>50</td>\n",
       "      <td>50</td>\n",
       "      <td>0</td>\n",
       "      <td>61</td>\n",
       "      <td>11.092105</td>\n",
       "      <td>10</td>\n",
       "      <td>21918</td>\n",
       "      <td>Histogram-1.csv</td>\n",
       "    </tr>\n",
       "    <tr>\n",
       "      <td>1</td>\n",
       "      <td>Measurement 2</td>\n",
       "      <td>2018-12-09T12:30:44-05:00</td>\n",
       "      <td>W1 40X Ay-GFP, UAS Yki3SA, UAS ScribRNAi MMP1,...</td>\n",
       "      <td>Selection</td>\n",
       "      <td>1 pixel(s) = 1.0000 pixels</td>\n",
       "      <td>pixels</td>\n",
       "      <td>1</td>\n",
       "      <td>1</td>\n",
       "      <td>1976</td>\n",
       "      <td>166.024387</td>\n",
       "      <td>0.900851</td>\n",
       "      <td>50</td>\n",
       "      <td>50</td>\n",
       "      <td>0</td>\n",
       "      <td>25</td>\n",
       "      <td>5.225202</td>\n",
       "      <td>5</td>\n",
       "      <td>10325</td>\n",
       "      <td>Histogram-2.csv</td>\n",
       "    </tr>\n",
       "    <tr>\n",
       "      <td>2</td>\n",
       "      <td>Measurement 3</td>\n",
       "      <td>2018-12-09T12:31-05:00</td>\n",
       "      <td>W1 40X Ay-GFP, UAS Yki3SA, UAS ScribRNAi MMP1,...</td>\n",
       "      <td>Selection</td>\n",
       "      <td>1 pixel(s) = 1.0000 pixels</td>\n",
       "      <td>pixels</td>\n",
       "      <td>1</td>\n",
       "      <td>1</td>\n",
       "      <td>1976</td>\n",
       "      <td>166.024387</td>\n",
       "      <td>0.900851</td>\n",
       "      <td>50</td>\n",
       "      <td>50</td>\n",
       "      <td>0</td>\n",
       "      <td>36</td>\n",
       "      <td>10.562753</td>\n",
       "      <td>10</td>\n",
       "      <td>20872</td>\n",
       "      <td>Histogram-3.csv</td>\n",
       "    </tr>\n",
       "    <tr>\n",
       "      <td>3</td>\n",
       "      <td>Measurement 4</td>\n",
       "      <td>2018-12-09T12:31:14-05:00</td>\n",
       "      <td>W1 40X Ay-GFP, UAS Yki3SA, UAS ScribRNAi MMP1,...</td>\n",
       "      <td>Selection</td>\n",
       "      <td>1 pixel(s) = 1.0000 pixels</td>\n",
       "      <td>pixels</td>\n",
       "      <td>1</td>\n",
       "      <td>1</td>\n",
       "      <td>1976</td>\n",
       "      <td>166.024387</td>\n",
       "      <td>0.900851</td>\n",
       "      <td>50</td>\n",
       "      <td>50</td>\n",
       "      <td>0</td>\n",
       "      <td>28</td>\n",
       "      <td>5.284919</td>\n",
       "      <td>5</td>\n",
       "      <td>10443</td>\n",
       "      <td>Histogram-4.csv</td>\n",
       "    </tr>\n",
       "    <tr>\n",
       "      <td>4</td>\n",
       "      <td>Measurement 5</td>\n",
       "      <td>2018-12-09T12:31:33-05:00</td>\n",
       "      <td>W1 40X Ay-GFP, UAS Yki3SA, UAS ScribRNAi MMP1,...</td>\n",
       "      <td>Selection</td>\n",
       "      <td>1 pixel(s) = 1.0000 pixels</td>\n",
       "      <td>pixels</td>\n",
       "      <td>1</td>\n",
       "      <td>1</td>\n",
       "      <td>1976</td>\n",
       "      <td>166.024387</td>\n",
       "      <td>0.900851</td>\n",
       "      <td>50</td>\n",
       "      <td>50</td>\n",
       "      <td>0</td>\n",
       "      <td>54</td>\n",
       "      <td>10.634615</td>\n",
       "      <td>10</td>\n",
       "      <td>21014</td>\n",
       "      <td>Histogram-5.csv</td>\n",
       "    </tr>\n",
       "  </tbody>\n",
       "</table>\n",
       "</div>"
      ],
      "text/plain": [
       "           Label              Date and Time  \\\n",
       "0  Measurement 1  2018-12-09T12:30:26-05:00   \n",
       "1  Measurement 2  2018-12-09T12:30:44-05:00   \n",
       "2  Measurement 3     2018-12-09T12:31-05:00   \n",
       "3  Measurement 4  2018-12-09T12:31:14-05:00   \n",
       "4  Measurement 5  2018-12-09T12:31:33-05:00   \n",
       "\n",
       "                                            Document     Source  \\\n",
       "0  W1 40X Ay-GFP, UAS Yki3SA, UAS ScribRNAi MMP1,...  Selection   \n",
       "1  W1 40X Ay-GFP, UAS Yki3SA, UAS ScribRNAi MMP1,...  Selection   \n",
       "2  W1 40X Ay-GFP, UAS Yki3SA, UAS ScribRNAi MMP1,...  Selection   \n",
       "3  W1 40X Ay-GFP, UAS Yki3SA, UAS ScribRNAi MMP1,...  Selection   \n",
       "4  W1 40X Ay-GFP, UAS Yki3SA, UAS ScribRNAi MMP1,...  Selection   \n",
       "\n",
       "                        Scale Scale Units  Scale Factor  Count  Area  \\\n",
       "0  1 pixel(s) = 1.0000 pixels      pixels             1      1  1976   \n",
       "1  1 pixel(s) = 1.0000 pixels      pixels             1      1  1976   \n",
       "2  1 pixel(s) = 1.0000 pixels      pixels             1      1  1976   \n",
       "3  1 pixel(s) = 1.0000 pixels      pixels             1      1  1976   \n",
       "4  1 pixel(s) = 1.0000 pixels      pixels             1      1  1976   \n",
       "\n",
       "    Perimeter  Circularity  Height  Width  Gray Value (Minimum)  \\\n",
       "0  166.024387     0.900851      50     50                     0   \n",
       "1  166.024387     0.900851      50     50                     0   \n",
       "2  166.024387     0.900851      50     50                     0   \n",
       "3  166.024387     0.900851      50     50                     0   \n",
       "4  166.024387     0.900851      50     50                     0   \n",
       "\n",
       "   Gray Value (Maximum)  Gray Value (Mean)  Gray Value (Median)  \\\n",
       "0                    61          11.092105                   10   \n",
       "1                    25           5.225202                    5   \n",
       "2                    36          10.562753                   10   \n",
       "3                    28           5.284919                    5   \n",
       "4                    54          10.634615                   10   \n",
       "\n",
       "   Integrated Density        Histogram  \n",
       "0               21918  Histogram-1.csv  \n",
       "1               10325  Histogram-2.csv  \n",
       "2               20872  Histogram-3.csv  \n",
       "3               10443  Histogram-4.csv  \n",
       "4               21014  Histogram-5.csv  "
      ]
     },
     "execution_count": 2,
     "metadata": {},
     "output_type": "execute_result"
    }
   ],
   "source": [
    "# Open, read and save the data as a dataframe variable\n",
    "df = pd.read_csv(\"YS MMP1.csv\") \n",
    "df.head()"
   ]
  },
  {
   "cell_type": "code",
   "execution_count": 3,
   "metadata": {},
   "outputs": [
    {
     "data": {
      "text/html": [
       "<div>\n",
       "<style scoped>\n",
       "    .dataframe tbody tr th:only-of-type {\n",
       "        vertical-align: middle;\n",
       "    }\n",
       "\n",
       "    .dataframe tbody tr th {\n",
       "        vertical-align: top;\n",
       "    }\n",
       "\n",
       "    .dataframe thead th {\n",
       "        text-align: right;\n",
       "    }\n",
       "</style>\n",
       "<table border=\"1\" class=\"dataframe\">\n",
       "  <thead>\n",
       "    <tr style=\"text-align: right;\">\n",
       "      <th></th>\n",
       "      <th>Document</th>\n",
       "      <th>Integrated Density</th>\n",
       "    </tr>\n",
       "  </thead>\n",
       "  <tbody>\n",
       "    <tr>\n",
       "      <td>0</td>\n",
       "      <td>W1 40X Ay-GFP, UAS Yki3SA, UAS ScribRNAi MMP1,...</td>\n",
       "      <td>21918</td>\n",
       "    </tr>\n",
       "    <tr>\n",
       "      <td>1</td>\n",
       "      <td>W1 40X Ay-GFP, UAS Yki3SA, UAS ScribRNAi MMP1,...</td>\n",
       "      <td>10325</td>\n",
       "    </tr>\n",
       "    <tr>\n",
       "      <td>2</td>\n",
       "      <td>W1 40X Ay-GFP, UAS Yki3SA, UAS ScribRNAi MMP1,...</td>\n",
       "      <td>20872</td>\n",
       "    </tr>\n",
       "    <tr>\n",
       "      <td>3</td>\n",
       "      <td>W1 40X Ay-GFP, UAS Yki3SA, UAS ScribRNAi MMP1,...</td>\n",
       "      <td>10443</td>\n",
       "    </tr>\n",
       "    <tr>\n",
       "      <td>4</td>\n",
       "      <td>W1 40X Ay-GFP, UAS Yki3SA, UAS ScribRNAi MMP1,...</td>\n",
       "      <td>21014</td>\n",
       "    </tr>\n",
       "  </tbody>\n",
       "</table>\n",
       "</div>"
      ],
      "text/plain": [
       "                                            Document  Integrated Density\n",
       "0  W1 40X Ay-GFP, UAS Yki3SA, UAS ScribRNAi MMP1,...               21918\n",
       "1  W1 40X Ay-GFP, UAS Yki3SA, UAS ScribRNAi MMP1,...               10325\n",
       "2  W1 40X Ay-GFP, UAS Yki3SA, UAS ScribRNAi MMP1,...               20872\n",
       "3  W1 40X Ay-GFP, UAS Yki3SA, UAS ScribRNAi MMP1,...               10443\n",
       "4  W1 40X Ay-GFP, UAS Yki3SA, UAS ScribRNAi MMP1,...               21014"
      ]
     },
     "execution_count": 3,
     "metadata": {},
     "output_type": "execute_result"
    }
   ],
   "source": [
    "#Create a dataframe that contains the name of the document and integrated density data\n",
    "df1=df[[\"Document\",\"Integrated Density\"]]\n",
    "df1.head(5)"
   ]
  },
  {
   "cell_type": "markdown",
   "metadata": {},
   "source": [
    "### Check for duplication of data"
   ]
  },
  {
   "cell_type": "code",
   "execution_count": 4,
   "metadata": {},
   "outputs": [
    {
     "data": {
      "text/html": [
       "<div>\n",
       "<style scoped>\n",
       "    .dataframe tbody tr th:only-of-type {\n",
       "        vertical-align: middle;\n",
       "    }\n",
       "\n",
       "    .dataframe tbody tr th {\n",
       "        vertical-align: top;\n",
       "    }\n",
       "\n",
       "    .dataframe thead th {\n",
       "        text-align: right;\n",
       "    }\n",
       "</style>\n",
       "<table border=\"1\" class=\"dataframe\">\n",
       "  <thead>\n",
       "    <tr style=\"text-align: right;\">\n",
       "      <th></th>\n",
       "      <th>Document</th>\n",
       "      <th>Integrated Density</th>\n",
       "    </tr>\n",
       "  </thead>\n",
       "  <tbody>\n",
       "    <tr>\n",
       "      <td>0</td>\n",
       "      <td>W1 40X Ay-GFP, UAS Yki3SA, UAS ScribRNAi MMP1,...</td>\n",
       "      <td>21918</td>\n",
       "    </tr>\n",
       "    <tr>\n",
       "      <td>1</td>\n",
       "      <td>W1 40X Ay-GFP, UAS Yki3SA, UAS ScribRNAi MMP1,...</td>\n",
       "      <td>10325</td>\n",
       "    </tr>\n",
       "    <tr>\n",
       "      <td>2</td>\n",
       "      <td>W1 40X Ay-GFP, UAS Yki3SA, UAS ScribRNAi MMP1,...</td>\n",
       "      <td>20872</td>\n",
       "    </tr>\n",
       "    <tr>\n",
       "      <td>3</td>\n",
       "      <td>W1 40X Ay-GFP, UAS Yki3SA, UAS ScribRNAi MMP1,...</td>\n",
       "      <td>10443</td>\n",
       "    </tr>\n",
       "    <tr>\n",
       "      <td>4</td>\n",
       "      <td>W1 40X Ay-GFP, UAS Yki3SA, UAS ScribRNAi MMP1,...</td>\n",
       "      <td>21014</td>\n",
       "    </tr>\n",
       "  </tbody>\n",
       "</table>\n",
       "</div>"
      ],
      "text/plain": [
       "                                            Document  Integrated Density\n",
       "0  W1 40X Ay-GFP, UAS Yki3SA, UAS ScribRNAi MMP1,...               21918\n",
       "1  W1 40X Ay-GFP, UAS Yki3SA, UAS ScribRNAi MMP1,...               10325\n",
       "2  W1 40X Ay-GFP, UAS Yki3SA, UAS ScribRNAi MMP1,...               20872\n",
       "3  W1 40X Ay-GFP, UAS Yki3SA, UAS ScribRNAi MMP1,...               10443\n",
       "4  W1 40X Ay-GFP, UAS Yki3SA, UAS ScribRNAi MMP1,...               21014"
      ]
     },
     "execution_count": 4,
     "metadata": {},
     "output_type": "execute_result"
    }
   ],
   "source": [
    "# Evaluate for any dupliacate data and drop it.\n",
    "df1.drop_duplicates(subset=['Document','Integrated Density'], keep ='first') \n",
    "df1.head(5)"
   ]
  },
  {
   "cell_type": "code",
   "execution_count": 5,
   "metadata": {},
   "outputs": [],
   "source": [
    "#Extract the integrated intensity as a list\n",
    "Signal_intensity = df1[\"Integrated Density\"].tolist()\n",
    "tumor=[]\n",
    "normal =[]\n",
    "# sort the MMP1 signal for tumor or normal sample\n",
    "for n in Signal_intensity:\n",
    "    if Signal_intensity.index(n)%2==0:\n",
    "        tumor.append(n)\n",
    "    else:\n",
    "        normal.append(n)"
   ]
  },
  {
   "cell_type": "markdown",
   "metadata": {},
   "source": [
    "### Calculate the mean signal intesity for each sample in both categories\n",
    "A function is created which goes through the list of integrated density and puts them into different lists according to sample type . later mean vaue of signal intensity is compiled into a dictionary and finally converted into a dataframe. This will be helpful to go over multiple data sets andsort them , calculate the mean and create the new data set which is ready for analysis. "
   ]
  },
  {
   "cell_type": "code",
   "execution_count": 6,
   "metadata": {},
   "outputs": [
    {
     "name": "stdout",
     "output_type": "stream",
     "text": [
      "Normal clone data: \n",
      "     Mean signal intensity\n",
      "W1           10176.666667\n",
      "W2            5627.666667\n",
      "W3           19044.000000\n",
      "W4            9115.333333\n",
      "W5            3672.000000\n",
      "Tumor clone data\n",
      "     Mean signal intensity\n",
      "W1           21268.000000\n",
      "W2           30318.666667\n",
      "W3           40447.333333\n",
      "W4           32175.666667\n",
      "W5           33100.000000\n"
     ]
    }
   ],
   "source": [
    "# This function sorts the different signal intensities according to the source sample(wing discs)\n",
    "# calculates there mean, puts them in a dictionary and returns a dataframe\n",
    "def Sample(sample_list=[]):\n",
    "    W1=[] \n",
    "    W2=[]\n",
    "    W3=[]\n",
    "    W4=[]\n",
    "    W5=[]\n",
    "    for n in sample_list:\n",
    "        if sample_list.index(n)<3:\n",
    "            W1.append(n)\n",
    "        elif sample_list.index(n)>2 and sample_list.index(n)<6:\n",
    "            W2.append(n)\n",
    "        elif sample_list.index(n)>5 and sample_list.index(n)<9:\n",
    "            W3.append(n)\n",
    "        elif sample_list.index(n)>8 and sample_list.index(n)<12:\n",
    "            W4.append(n)\n",
    "        else:\n",
    "            W5.append(n)\n",
    "    sample_dict = {\"W1\":np.mean(W1),\"W2\":np.mean(W2), \"W3\":np.mean(W3),\"W4\":np.mean(W4),\"W5\":np.mean(W5) }\n",
    "    df2 = pd.DataFrame.from_dict(sample_dict,orient='index',columns=['Mean signal intensity']) \n",
    "    return(df2)\n",
    "\n",
    "tumor_sample = Sample(tumor)\n",
    "normal_sample = Sample(normal)\n",
    "print('Normal clone data: \\n',normal_sample)\n",
    "print('Tumor clone data\\n',tumor_sample)\n"
   ]
  },
  {
   "cell_type": "markdown",
   "metadata": {},
   "source": [
    "### Visualize the signal intensities using bar graph\n",
    "Create a function that takes two dataframes and plots a bar graph showing the comparision of the two data sets. It is helpful if multiple data sets need to be compared."
   ]
  },
  {
   "cell_type": "code",
   "execution_count": 7,
   "metadata": {},
   "outputs": [
    {
     "data": {
      "text/plain": [
       "<Figure size 640x480 with 1 Axes>"
      ]
     },
     "metadata": {},
     "output_type": "display_data"
    }
   ],
   "source": [
    "#The comparedplot function accepts two data and creates a bar graph with the two datas plotted together\n",
    "import matplotlib.pyplot as plt\n",
    "def comparedplot(data1,data2):\n",
    "    names= list(data1.index.values)\n",
    "    fig= plt.subplots()\n",
    "    index1 = np.arange(len(data1))\n",
    "    index2 = np.arange(len(data2))\n",
    "    bar_width = 0.35\n",
    "    opacity = 0.8\n",
    "\n",
    "    fig1 = plt.bar(index1,data1['Mean signal intensity'], bar_width,alpha=opacity,color='b',label='Normal clone')\n",
    "\n",
    "    fig2 = plt.bar(index2 + bar_width,data2['Mean signal intensity'], bar_width,alpha=opacity,color='g',label='Tumor clone')\n",
    "\n",
    "    plt.ylabel('Integrated density(A.U.)')\n",
    "    plt.title('MMP1 expression in Normal and Tumor clones')\n",
    "    plt.xticks((index1 + bar_width), names)\n",
    "    plt.legend()\n",
    "    plt.tight_layout()\n",
    "       \n",
    "    return (plt.show())\n",
    "\n",
    "comparedplot(normal_sample,tumor_sample)\n"
   ]
  },
  {
   "cell_type": "code",
   "execution_count": 8,
   "metadata": {},
   "outputs": [
    {
     "name": "stdout",
     "output_type": "stream",
     "text": [
      "Normal clone statistics: \n",
      " count        5.000000\n",
      "mean      9527.133333\n",
      "std       5929.811350\n",
      "min       3672.000000\n",
      "25%       5627.666667\n",
      "50%       9115.333333\n",
      "75%      10176.666667\n",
      "max      19044.000000\n",
      "Name: Mean signal intensity, dtype: float64\n",
      "\n",
      "Tumor clone statistics: \n",
      " count        5.000000\n",
      "mean     31461.933333\n",
      "std       6876.653007\n",
      "min      21268.000000\n",
      "25%      30318.666667\n",
      "50%      32175.666667\n",
      "75%      33100.000000\n",
      "max      40447.333333\n",
      "Name: Mean signal intensity, dtype: float64\n"
     ]
    }
   ],
   "source": [
    "# Descriptive statistics to calculate the mean and standard deviation of both the categories\n",
    "normal_stat = normal_sample['Mean signal intensity'].describe()\n",
    "tumor_stat= tumor_sample['Mean signal intensity'].describe()\n",
    "print ('Normal clone statistics: \\n',normal_stat)\n",
    "print ('\\nTumor clone statistics: \\n',tumor_stat)\n"
   ]
  },
  {
   "cell_type": "code",
   "execution_count": 9,
   "metadata": {},
   "outputs": [
    {
     "data": {
      "image/png": "[encoded data removed]",
      "text/plain": [
       "<Figure size 432x288 with 1 Axes>"
      ]
     },
     "metadata": {
      "needs_background": "light"
     },
     "output_type": "display_data"
    }
   ],
   "source": [
    "#bar graph of mean MMP1 expression in tumor and normal sample with error bars\n",
    "\n",
    "plt.bar(['Normal clone', 'Tumor clone'],[normal_stat['mean'], tumor_stat['mean']],yerr=[normal_stat['std'], tumor_stat['std']],capsize = 10)\n",
    "plt.ylabel('Integrated density(A.U.)')\n",
    "plt.title('MMP1 expression')\n",
    "plt.savefig('plot.png', dpi = 300)\n",
    "plt.show()"
   ]
  },
  {
   "cell_type": "code",
   "execution_count": 10,
   "metadata": {},
   "outputs": [
    {
     "data": {
      "text/plain": [
       "Ttest_relResult(statistic=7.253904279858289, pvalue=0.001917565518142876)"
      ]
     },
     "execution_count": 10,
     "metadata": {},
     "output_type": "execute_result"
    }
   ],
   "source": [
    "# inferential statistics to calculate the p-value and evaluate the significance of the obtained data\n",
    "from scipy import stats\n",
    "stats.ttest_rel(tumor_sample['Mean signal intensity'],normal_sample['Mean signal intensity'])"
   ]
  },
  {
   "cell_type": "markdown",
   "metadata": {},
   "source": [
    "### Interpretation of the Results\n",
    "A paired sample t-test was used to analyze the MMP1 expression in the surrounding normal cells and tumor clones to test if the there is any significant MMP1 expression during tumor development. The mean MMP1 expression in tumor clones was (31461.93 ±6876.65 A.U.) compared to that in surrounding normal cells (9527.13 ± 5929.81 A.U.); there was a statistically significant increase in MMP1 expression (t(degree of freedom = 4)=7.25, p= 0.0019)."
   ]
  },
  {
   "cell_type": "code",
   "execution_count": null,
   "metadata": {},
   "outputs": [],
   "source": []
  }
 ],
 "metadata": {
  "kernelspec": {
   "display_name": "Python 3",
   "language": "python",
   "name": "python3"
  },
  "language_info": {
   "codemirror_mode": {
    "name": "ipython",
    "version": 3
   },
   "file_extension": ".py",
   "mimetype": "text/x-python",
   "name": "python",
   "nbconvert_exporter": "python",
   "pygments_lexer": "ipython3",
   "version": "3.7.4"
  }
 },
 "nbformat": 4,
 "nbformat_minor": 2
}
